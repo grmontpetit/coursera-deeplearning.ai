{
  "nbformat": 4,
  "nbformat_minor": 0,
  "metadata": {
    "colab": {
      "name": "Week2-notes.ipynb",
      "version": "0.3.2",
      "provenance": [],
      "include_colab_link": true
    },
    "kernelspec": {
      "name": "python3",
      "display_name": "Python 3"
    }
  },
  "cells": [
    {
      "cell_type": "markdown",
      "metadata": {
        "id": "view-in-github",
        "colab_type": "text"
      },
      "source": [
        "<a href=\"https://colab.research.google.com/github/sniggel/coursera-deeplearning.ai/blob/master/Week2_notes.ipynb\" target=\"_parent\"><img src=\"https://colab.research.google.com/assets/colab-badge.svg\" alt=\"Open In Colab\"/></a>"
      ]
    },
    {
      "metadata": {
        "id": "ubUH7RxDZ84e",
        "colab_type": "text"
      },
      "cell_type": "markdown",
      "source": [
        "# Week 2 Notes\n"
      ]
    },
    {
      "metadata": {
        "id": "Q4ZWwWuBX_xE",
        "colab_type": "code",
        "colab": {
          "base_uri": "https://localhost:8080/",
          "height": 85
        },
        "outputId": "4847d93d-c9bb-4855-81fa-c48dac0608e2"
      },
      "cell_type": "code",
      "source": [
        "import numpy as np\n",
        "import time\n",
        "\n",
        "a = np.random.rand(1000000)\n",
        "b = np.random.rand(1000000)\n",
        "\n",
        "## Vectorized implementation\n",
        "tic = time.time()\n",
        "c = np.dot(a, b)\n",
        "toc = time.time()\n",
        "print(c)\n",
        "print(\"Vectorized version: \" + str(toc-tic) + \"ms\")\n",
        "\n",
        "## Non-Vectorized implementation\n",
        "c = 0\n",
        "tic = time.time()\n",
        "for i in range(1000000):\n",
        "  c += a[i]*b[i]\n",
        "toc = time.time()\n",
        "print(c)\n",
        "print(\"For loop: \" + str(1000*(toc-tic)) + \"ms\")\n"
      ],
      "execution_count": 1,
      "outputs": [
        {
          "output_type": "stream",
          "text": [
            "250092.51633280987\n",
            "Vectorized version: 0.002269268035888672ms\n",
            "250092.51633280097\n",
            "For loop: 499.32193756103516ms\n"
          ],
          "name": "stdout"
        }
      ]
    },
    {
      "metadata": {
        "id": "4DYvhTY9fC6X",
        "colab_type": "text"
      },
      "cell_type": "markdown",
      "source": [
        "# Broadcasting example\n",
        "\n",
        "Calories from Carbs, Proteins, Fats in 100g of different foods:\n",
        "\n",
        "Type | Apples | Beef |  Potatoes\n",
        "--- | --- | --- | ---\n",
        "Carb | 56.0 | 0.0 | 4.4 | 68.0\n",
        "Protein| 1.2 | 104.0 | 52.0 | 8.0\n",
        "Fat | 1.8 | 135.0 | 99.0 | 0.9\n",
        "--- | --- | --- | --- | ---\n",
        "total | 59.0 | 139.0 | 155.4 |  76.9\n",
        "\n",
        "Calculate the % of calories from Carbs, Proteins and Fats"
      ]
    },
    {
      "metadata": {
        "id": "1c2w4p1ThrQn",
        "colab_type": "code",
        "colab": {
          "base_uri": "https://localhost:8080/",
          "height": 136
        },
        "outputId": "d44d13db-9d10-44d1-e084-d7c2ad6ca272"
      },
      "cell_type": "code",
      "source": [
        "import numpy as np\n",
        "\n",
        "A = np.array([[56.0, 0.0, 4.4, 68.0],\n",
        "              [1.2, 104.0, 52.0, 8.0],\n",
        "              [1.8,135.0,99.0,0.9]])\n",
        "\n",
        "print(A)\n",
        "\n",
        "cal = A.sum(axis=0)\n",
        "print(cal)\n",
        "\n",
        "percentage = 100*A/cal\n",
        "print(percentage)"
      ],
      "execution_count": 8,
      "outputs": [
        {
          "output_type": "stream",
          "text": [
            "[[ 56.    0.    4.4  68. ]\n",
            " [  1.2 104.   52.    8. ]\n",
            " [  1.8 135.   99.    0.9]]\n",
            "[ 59.  239.  155.4  76.9]\n",
            "[[94.91525424  0.          2.83140283 88.42652796]\n",
            " [ 2.03389831 43.51464435 33.46203346 10.40312094]\n",
            " [ 3.05084746 56.48535565 63.70656371  1.17035111]]\n"
          ],
          "name": "stdout"
        }
      ]
    },
    {
      "metadata": {
        "id": "OdXUJiCNpoQm",
        "colab_type": "text"
      },
      "cell_type": "markdown",
      "source": [
        "# A note on python/numpy vectors"
      ]
    },
    {
      "metadata": {
        "id": "hX8oVVmNpsMk",
        "colab_type": "code",
        "colab": {
          "base_uri": "https://localhost:8080/",
          "height": 272
        },
        "outputId": "fdf7ffa6-07be-4eba-f217-cafd9e2e2417"
      },
      "cell_type": "code",
      "source": [
        "import numpy as np\n",
        "\n",
        "## Creates a datastructure: rank1 array (not consistent, do not use)\n",
        "a = np.random.randn(5)\n",
        "print(a)\n",
        "\n",
        "print(a.shape)\n",
        "\n",
        "## transpose\n",
        "print(a.T)\n",
        "\n",
        "print(np.dot(a,a.T))\n",
        "\n",
        "## Proper way to init a 5*1 matrix\n",
        "## always use randn(5,1) or randn(1,5)\n",
        "## row vector: randn(5,1)\n",
        "## column vector: randn(1,5)\n",
        "a = np.random.randn(5,1)\n",
        "print(a)\n",
        "\n",
        "## Transpose to a row vector, gives a 1x5 matrix\n",
        "print(a.T)\n",
        "\n",
        "print(np.dot(a,a.T))\n",
        "\n",
        "assert(a.shape == (5,1))"
      ],
      "execution_count": 12,
      "outputs": [
        {
          "output_type": "stream",
          "text": [
            "[ 0.07072448  1.34623086 -1.21354045  0.70406356 -0.38140447]\n",
            "(5,)\n",
            "[ 0.07072448  1.34623086 -1.21354045  0.70406356 -0.38140447]\n",
            "3.9311947841205694\n",
            "[[ 1.11701756]\n",
            " [ 1.09746352]\n",
            " [ 0.94196229]\n",
            " [-0.52370767]\n",
            " [-0.80244273]]\n",
            "[[ 1.11701756  1.09746352  0.94196229 -0.52370767 -0.80244273]]\n",
            "[[ 1.24772824  1.22588602  1.05218842 -0.58499067 -0.89634263]\n",
            " [ 1.22588602  1.20442617  1.03376925 -0.57475007 -0.88065162]\n",
            " [ 1.05218842  1.03376925  0.88729296 -0.49331288 -0.75587079]\n",
            " [-0.58499067 -0.57475007 -0.49331288  0.27426973  0.42024542]\n",
            " [-0.89634263 -0.88065162 -0.75587079  0.42024542  0.64391434]]\n"
          ],
          "name": "stdout"
        }
      ]
    }
  ]
}