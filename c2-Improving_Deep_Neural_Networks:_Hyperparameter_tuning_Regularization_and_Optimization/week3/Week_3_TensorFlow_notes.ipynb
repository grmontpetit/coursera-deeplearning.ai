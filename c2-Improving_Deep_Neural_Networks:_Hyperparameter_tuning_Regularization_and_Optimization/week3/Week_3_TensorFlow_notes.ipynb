{
  "nbformat": 4,
  "nbformat_minor": 0,
  "metadata": {
    "colab": {
      "name": "Week 3 TensorFlow notes.ipynb",
      "version": "0.3.2",
      "provenance": [],
      "collapsed_sections": []
    },
    "kernelspec": {
      "name": "python3",
      "display_name": "Python 3"
    }
  },
  "cells": [
    {
      "cell_type": "markdown",
      "metadata": {
        "id": "xBWa0IAF0tx5",
        "colab_type": "text"
      },
      "source": [
        "# Week 3 - TensorFlow\n",
        "\n",
        "This colab jupyter notebook contains notes from week 3's TensorFlow video.\n",
        "\n",
        "Welcome to the last video for this week. There are many great, deep learning programming frameworks. One of them is TensorFlow.\n",
        "\n",
        "I'm excited to help you start to learn to use TensorFlow. What I want to do in this video is show you the basic structure of a TensorFlow program, and then leave you to practice, learn more details, and practice them yourself in this week's problem exercise. This week's problem exercise will take some time to do so please be sure to leave some extra time to do it.\n",
        "\n",
        "As a motivating problem, let's say that you have some cost function J that you want to minimize. And for this example, I'm going to use this highly simple cost function **J(w) = w squared- 10w + 25**. So that's the cost function."
      ]
    },
    {
      "cell_type": "markdown",
      "metadata": {
        "id": "hbRRrpe_2ttJ",
        "colab_type": "text"
      },
      "source": [
        "**Let's get started**\n"
      ]
    },
    {
      "cell_type": "code",
      "metadata": {
        "id": "nzYrKGRy1ukN",
        "colab_type": "code",
        "colab": {}
      },
      "source": [
        "import numpy as np\n",
        "import tensorflow as tf"
      ],
      "execution_count": 0,
      "outputs": []
    },
    {
      "cell_type": "code",
      "metadata": {
        "id": "j-Ymh9bk297o",
        "colab_type": "code",
        "colab": {
          "base_uri": "https://localhost:8080/",
          "height": 34
        },
        "outputId": "e28b82d3-9fbf-474e-9cb2-839fba84af74"
      },
      "source": [
        "# initialize w to 0, w is the parameter we're trying to optimize\n",
        "w = tf.Variable(0, dtype=tf.float32)\n",
        "# define a cost function, w**2 is an element wise power\n",
        "# tensorflow already knows how to perform backprop because it's built-in multuply and **\n",
        "cost = tf.add(tf.add(w**2, tf.multiply(-10., w)), 25)\n",
        "# learning algorithm\n",
        "train = tf.train.GradientDescentOptimizer(0.01).minimize(cost)\n",
        "\n",
        "init = tf.global_variables_initializer()\n",
        "session = tf.Session()\n",
        "session.run(init)\n",
        "print(session.run(w))"
      ],
      "execution_count": 13,
      "outputs": [
        {
          "output_type": "stream",
          "text": [
            "0.0\n"
          ],
          "name": "stdout"
        }
      ]
    },
    {
      "cell_type": "code",
      "metadata": {
        "id": "YzGLqy7H-7-E",
        "colab_type": "code",
        "colab": {
          "base_uri": "https://localhost:8080/",
          "height": 34
        },
        "outputId": "30141db8-e063-4906-fb3c-28704396671f"
      },
      "source": [
        "session.run(train)\n",
        "print(session.run(w))"
      ],
      "execution_count": 14,
      "outputs": [
        {
          "output_type": "stream",
          "text": [
            "0.099999994\n"
          ],
          "name": "stdout"
        }
      ]
    },
    {
      "cell_type": "code",
      "metadata": {
        "id": "t9F7lhzw_Dt3",
        "colab_type": "code",
        "colab": {
          "base_uri": "https://localhost:8080/",
          "height": 34
        },
        "outputId": "401913ba-f05e-4c1e-b323-1828f0f5028d"
      },
      "source": [
        "# run a 1000 iterations\n",
        "for i in range(1000):\n",
        "  session.run(train)\n",
        "print(session.run(w))"
      ],
      "execution_count": 15,
      "outputs": [
        {
          "output_type": "stream",
          "text": [
            "4.999988\n"
          ],
          "name": "stdout"
        }
      ]
    },
    {
      "cell_type": "markdown",
      "metadata": {
        "id": "_tUojg4VAoYv",
        "colab_type": "text"
      },
      "source": [
        "**nicer syntax**\n",
        "\n",
        "The code below is the same code as above but with nicer syntax"
      ]
    },
    {
      "cell_type": "code",
      "metadata": {
        "id": "RHHQGuF4Ax2K",
        "colab_type": "code",
        "colab": {}
      },
      "source": [
        "# initialize w to 0, w is the parameter we're trying to optimize\n",
        "w = tf.Variable(0, dtype=tf.float32)\n",
        "# define a cost function, w**2 is an element wise power\n",
        "# tensorflow already knows how to perform backprop because it's built-in multuply and **\n",
        "cost = w**2 - 10*w + 25\n",
        "# learning algorithm\n",
        "train = tf.train.GradientDescentOptimizer(0.01).minimize(cost)\n",
        "\n",
        "init = tf.global_variables_initializer()\n",
        "session = tf.Session()\n",
        "session.run(init)\n",
        "print(session.run(w))"
      ],
      "execution_count": 0,
      "outputs": []
    },
    {
      "cell_type": "markdown",
      "metadata": {
        "id": "Bi-S0SxbBBss",
        "colab_type": "text"
      },
      "source": [
        "**Same Example, with x training data**\n"
      ]
    },
    {
      "cell_type": "code",
      "metadata": {
        "id": "wuqQaWq5BDIF",
        "colab_type": "code",
        "colab": {
          "base_uri": "https://localhost:8080/",
          "height": 51
        },
        "outputId": "a9bb9686-acad-4b0e-c2d3-477169ffec97"
      },
      "source": [
        "import numpy as np\n",
        "import tensorflow as tf\n",
        "\n",
        "# data that will be inserted in x\n",
        "coefficients = np.array([[1.], [-10.], [25.]])\n",
        "\n",
        "# initialize w to 0, w is the parameter we're trying to optimize\n",
        "w = tf.Variable(0, dtype=tf.float32)\n",
        "# tells tensor flow that you will provide values later\n",
        "x = tf.placeholder(tf.float32, [3, 1])\n",
        "# define a cost function, w**2 is an element wise power\n",
        "# tensorflow already knows how to perform backprop because it's built-in multuply and **\n",
        "cost = w**2 - 10*w + 25\n",
        "# learning algorithm\n",
        "train = tf.train.GradientDescentOptimizer(0.01).minimize(cost)\n",
        "\n",
        "init = tf.global_variables_initializer()\n",
        "session = tf.Session()\n",
        "session.run(init)\n",
        "\n",
        "session.run(train, feed_dict={x:coefficients})\n",
        "print('W after 1 iteration: ' + str(session.run(w)))\n",
        "\n",
        "# run a 1000 iterations\n",
        "for i in range(1000):\n",
        "  session.run(train, feed_dict={x:coefficients})\n",
        "print('W after a 1000 iterations: ' + str(session.run(w)))\n"
      ],
      "execution_count": 19,
      "outputs": [
        {
          "output_type": "stream",
          "text": [
            "W after 1 iteration: 0.099999994\n",
            "W after a 1000 iterations: 4.999988\n"
          ],
          "name": "stdout"
        }
      ]
    },
    {
      "cell_type": "markdown",
      "metadata": {
        "id": "EXAQG3k7GHnH",
        "colab_type": "text"
      },
      "source": [
        "**Same Example, with different coefficients**"
      ]
    },
    {
      "cell_type": "code",
      "metadata": {
        "id": "dCMJX_wrGLh5",
        "colab_type": "code",
        "colab": {
          "base_uri": "https://localhost:8080/",
          "height": 51
        },
        "outputId": "b9a37d03-a0f2-49a3-cbdc-2753ba2a07b7"
      },
      "source": [
        "import numpy as np\n",
        "import tensorflow as tf\n",
        "\n",
        "# data that will be inserted in x\n",
        "coefficients = np.array([[1.], [-20.], [100.]])\n",
        "\n",
        "# initialize w to 0, w is the parameter we're trying to optimize\n",
        "w = tf.Variable(0, dtype=tf.float32)\n",
        "# tells tensor flow that you will provide values later\n",
        "x = tf.placeholder(tf.float32, [3, 1])\n",
        "# define a cost function, w**2 is an element wise power\n",
        "# tensorflow already knows how to perform backprop because it's built-in multuply and **\n",
        "cost = x[0][0]*w**2 + x[1][0]*w + x[2][0]\n",
        "# learning algorithm, can use adam too\n",
        "train = tf.train.GradientDescentOptimizer(0.01).minimize(cost)\n",
        "\n",
        "init = tf.global_variables_initializer()\n",
        "\n",
        "## Next 3 lines can be used another way, see next code cell\n",
        "session = tf.Session()\n",
        "session.run(init)\n",
        "# feed_dict can be used with batch gradien descent to feed in subset of data\n",
        "session.run(train, feed_dict={x:coefficients})\n",
        "\n",
        "\n",
        "print('W after 1 iteration: ' + str(session.run(w)))\n",
        "\n",
        "# run a 1000 iterations\n",
        "for i in range(1000):\n",
        "  session.run(train, feed_dict={x:coefficients})\n",
        "print('W after a 1000 iterations: ' + str(session.run(w)))"
      ],
      "execution_count": 21,
      "outputs": [
        {
          "output_type": "stream",
          "text": [
            "W after 1 iteration: 0.19999999\n",
            "W after a 1000 iterations: 9.999976\n"
          ],
          "name": "stdout"
        }
      ]
    },
    {
      "cell_type": "markdown",
      "metadata": {
        "id": "E774t_hCJQn2",
        "colab_type": "text"
      },
      "source": [
        "**Yet another way to code the example**"
      ]
    },
    {
      "cell_type": "code",
      "metadata": {
        "id": "7A0jHUrCJXjr",
        "colab_type": "code",
        "colab": {
          "base_uri": "https://localhost:8080/",
          "height": 51
        },
        "outputId": "d0f08b47-c319-46fe-c86d-376e9008c21e"
      },
      "source": [
        "import numpy as np\n",
        "import tensorflow as tf\n",
        "\n",
        "# data that will be inserted in x\n",
        "coefficients = np.array([[1.], [-20.], [100.]])\n",
        "\n",
        "# initialize w to 0, w is the parameter we're trying to optimize\n",
        "w = tf.Variable(0, dtype=tf.float32)\n",
        "# tells tensor flow that you will provide values later\n",
        "x = tf.placeholder(tf.float32, [3, 1])\n",
        "# define a cost function, w**2 is an element wise power\n",
        "# tensorflow already knows how to perform backprop because it's built-in multuply and **\n",
        "cost = x[0][0]*w**2 + x[1][0]*w + x[2][0]\n",
        "# learning algorithm, can use adam too\n",
        "train = tf.train.GradientDescentOptimizer(0.01).minimize(cost)\n",
        "\n",
        "init = tf.global_variables_initializer()\n",
        "\n",
        "with tf.Session() as session:\n",
        "  session.run(init)\n",
        "  session.run(train, feed_dict={x:coefficients})\n",
        "\n",
        "  print('W after 1 iteration: ' + str(session.run(w)))\n",
        "\n",
        "  # run a 1000 iterations\n",
        "  for i in range(1000):\n",
        "    session.run(train, feed_dict={x:coefficients})\n",
        "  print('W after a 1000 iterations: ' + str(session.run(w)))"
      ],
      "execution_count": 24,
      "outputs": [
        {
          "output_type": "stream",
          "text": [
            "W after 1 iteration: 0.19999999\n",
            "W after a 1000 iterations: 9.999976\n"
          ],
          "name": "stdout"
        }
      ]
    },
    {
      "cell_type": "code",
      "metadata": {
        "id": "376c8i9pJnS-",
        "colab_type": "code",
        "colab": {}
      },
      "source": [
        ""
      ],
      "execution_count": 0,
      "outputs": []
    }
  ]
}